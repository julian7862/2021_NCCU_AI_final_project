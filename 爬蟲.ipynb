{
 "cells": [
  {
   "cell_type": "code",
   "execution_count": 1,
   "id": "1f7297b8",
   "metadata": {
    "scrolled": false
   },
   "outputs": [
    {
     "name": "stdout",
     "output_type": "stream",
     "text": [
      "获取链接中...\n",
      "早上好中国现在我有蚁人\n",
      "完成\n"
     ]
    },
    {
     "name": "stderr",
     "output_type": "stream",
     "text": [
      "正在下载蚁人图片: 100%|██████████████████████████████████████████████████████████████| 320/320 [08:18<00:00,  1.56s/it]"
     ]
    },
    {
     "name": "stdout",
     "output_type": "stream",
     "text": [
      "获取完成，给你存在当前目录下的 imgs/蚁人 文件夹里面了哦～\n"
     ]
    },
    {
     "name": "stderr",
     "output_type": "stream",
     "text": [
      "\n"
     ]
    }
   ],
   "source": [
    "import requests\n",
    "import json\n",
    "from tqdm import tqdm\n",
    "import os\n",
    "from fake_useragent import UserAgent\n",
    "import random\n",
    "import time\n",
    "\n",
    "with open('proxy_list.txt', 'r') as file:\n",
    "    proxy_ips = file.read().splitlines()\n",
    "    \n",
    "\n",
    "user_agent = UserAgent()\n",
    "#words = ['钢铁侠','灭霸','蜘蛛侠','美国队长','黑寡妇','奇异博士','洛基','浩克','鹰眼','蚁人']\n",
    "words = ['蚁人']\n",
    "cnt = 320\n",
    "headers = {\n",
    "    'User-Agent': user_agent.random,\n",
    "    'Accept-Encoding': 'gzip, deflate, br'\n",
    "}\n",
    "\n",
    "for word in words:\n",
    "    image_urls = []\n",
    "    file_path = f'imgs/{word}'\n",
    "    if os.path.exists(file_path) is False: os.makedirs(file_path)\n",
    "    print('获取链接中...', end='\\n')\n",
    "    print(f'早上好中国现在我有{word}')\n",
    "    for pn in range(0, cnt, 30):\n",
    "#        time.sleep(0.1)\n",
    "#        proxy_ip = random.choice(proxy_ips)\n",
    "#         r = requests.get(url='https://image.baidu.com/search/acjson',\n",
    "#                          params={'tn': 'resultjson_com', 'ipn': 'rj', 'word': word, 'pn': pn, 'rn': 30, }, headers=headers,proxies={'http': f'{proxy_ip}', 'https': f'{proxy_ip}'})\n",
    "        r = requests.get(url='https://image.baidu.com/search/acjson',\n",
    "                         params={'tn': 'resultjson_com', 'ipn': 'rj', 'word': word, 'pn': pn, 'rn': 30, }, headers=headers)\n",
    "        js = json.loads(r.text)\n",
    "        for i in js['data']:\n",
    "            if len(i) > 0: image_urls.append(i['thumbURL'])\n",
    "    print('完成')\n",
    "    for idx, url in tqdm(enumerate(image_urls[:cnt]), total=cnt, desc=f'正在下载{word}图片'):\n",
    "        with open(f'{file_path}/{idx}.jpg', 'wb') as f:\n",
    "            time.sleep(0.1)\n",
    "            f.write(requests.get(url,headers=headers).content)\n",
    "    print(f'获取完成，给你存在当前目录下的 imgs/{word} 文件夹里面了哦～')"
   ]
  },
  {
   "cell_type": "code",
   "execution_count": null,
   "id": "df1dbcae",
   "metadata": {},
   "outputs": [],
   "source": []
  }
 ],
 "metadata": {
  "kernelspec": {
   "display_name": "Python 3 (ipykernel)",
   "language": "python",
   "name": "python3"
  },
  "language_info": {
   "codemirror_mode": {
    "name": "ipython",
    "version": 3
   },
   "file_extension": ".py",
   "mimetype": "text/x-python",
   "name": "python",
   "nbconvert_exporter": "python",
   "pygments_lexer": "ipython3",
   "version": "3.9.7"
  }
 },
 "nbformat": 4,
 "nbformat_minor": 5
}
